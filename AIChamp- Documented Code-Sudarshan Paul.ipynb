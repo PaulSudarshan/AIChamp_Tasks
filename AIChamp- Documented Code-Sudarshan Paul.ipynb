{
 "cells": [
  {
   "cell_type": "markdown",
   "metadata": {},
   "source": [
    "# AICHAMP SCREENING TEST - Documented Code\n",
    "\n",
    "## Submitted by - Sudarshan Paul\n",
    "## Total Tasks Completed - 4\n",
    "## Contact - 7908468882\n",
    "## E-Mail - paulsudarshan98@gmail.com\n"
   ]
  },
  {
   "cell_type": "markdown",
   "metadata": {},
   "source": [
    "# TASK-1\n",
    "### Download 50 public profile PDFs of your connections (randomly) from LinkedIn."
   ]
  },
  {
   "cell_type": "code",
   "execution_count": 420,
   "metadata": {},
   "outputs": [],
   "source": [
    "# pip install --user pdfminer\n",
    "# !pip install --user werkzeug"
   ]
  },
  {
   "cell_type": "markdown",
   "metadata": {},
   "source": [
    "# Importing the required libraries."
   ]
  },
  {
   "cell_type": "code",
   "execution_count": 1,
   "metadata": {},
   "outputs": [
    {
     "name": "stderr",
     "output_type": "stream",
     "text": [
      "C:\\ProgramData\\Anaconda3\\lib\\site-packages\\spacy\\util.py:275: UserWarning: [W031] Model 'en_core_web_sm' (2.2.0) requires spaCy v2.2 and is incompatible with the current spaCy version (2.3.2). This may lead to unexpected results or runtime errors. To resolve this, download a newer compatible model or retrain your custom model with the current spaCy version. For more details and available updates, run: python -m spacy validate\n",
      "  warnings.warn(warn_msg)\n"
     ]
    }
   ],
   "source": [
    "from pdfminer.pdfinterp import PDFResourceManager, PDFPageInterpreter # Converting PDF to text\n",
    "from pdfminer.converter import TextConverter  # utils for pdf conversion\n",
    "from pdfminer.layout import LAParams  # utils for pdf conversion\n",
    "from pdfminer.pdfpage import PDFPage  # utils for pdf conversion\n",
    "from io import StringIO,BytesIO # utils for pdf conversion\n",
    "import os\n",
    "\n",
    "from flask import Flask # For FLASK API Development\n",
    "from flask import Flask, flash, request, redirect, render_template # Utils for API development\n",
    "from werkzeug.utils import secure_filename # function to secure a filename before storing it directly on the filesystem.\n",
    "import urllib.request\n",
    "\n",
    "\n",
    "import spacy  #Required for Profile Text Analysis ex : stop words removal, text cleaning etc\n",
    "import pandas as pd #Required for structuring the data in the form of a DataFrame\n",
    "import en_core_web_sm # This is the largest English Library for Spacy\n",
    "import string #Required for string manipulation\n",
    "import nltk # Also required for text analysis"
   ]
  },
  {
   "cell_type": "markdown",
   "metadata": {},
   "source": [
    "# Function to Convert PDF ---> .txt"
   ]
  },
  {
   "cell_type": "markdown",
   "metadata": {},
   "source": [
    "# Task -2\n",
    "### # Extract text from the above PDFs and store them in a CSV."
   ]
  },
  {
   "cell_type": "code",
   "execution_count": 4,
   "metadata": {},
   "outputs": [],
   "source": [
    "def convertPDFToText(path):\n",
    "    rsrcmgr = PDFResourceManager() # Create a PDF resource manager object that stores shared resources.\n",
    "    retstr = StringIO() # Create instance of StringIO\n",
    "    laparams = LAParams() # Set parameters for analysis.\n",
    "    device = TextConverter(rsrcmgr, retstr, laparams=laparams)\n",
    "    fp = open(path, 'rb') #Opening the PDF file in the respective path.\n",
    "    interpreter = PDFPageInterpreter(rsrcmgr, device) #Creating an instance of PDFPageInterpreter\n",
    "    password = \"\" #In case PDF is password protected\n",
    "    maxpages = 0 \n",
    "    caching = True\n",
    "    pagenos=set()\n",
    "    for page in PDFPage.get_pages(fp, pagenos, maxpages=maxpages, password=password,caching=caching, check_extractable=True):\n",
    "        interpreter.process_page(page) \n",
    "    fp.close() # Closing the existing open file for security reasons.\n",
    "    device.close()\n",
    "    string = retstr.getvalue() #Obtaining all the text values from the PDF after parsing is over\n",
    "    retstr.close() #Terminating the instance of StringIO\n",
    "    return string # Returning the string values in plain text format"
   ]
  },
  {
   "cell_type": "code",
   "execution_count": 5,
   "metadata": {},
   "outputs": [],
   "source": [
    "# convertPDFToText('C://Users//sudar//OneDrive//Desktop//Work Files//AI CHamp//Data//Profile (1).pdf')"
   ]
  },
  {
   "cell_type": "markdown",
   "metadata": {},
   "source": [
    "# TASK-4 (Part a) and TASK-2 (Put together in single API)\n",
    "### # The first web API should take a PDF file as input and return the text in it in JSON format."
   ]
  },
  {
   "cell_type": "markdown",
   "metadata": {},
   "source": [
    "# Creating the First WEB-API using FLASK.\n",
    "\n",
    "## What is Flask?\n",
    "### Flask is a micro web framework written in Python. It is classified as a microframework because it does not require particular tools or libraries.\n",
    "\n",
    "## What works will this simple API establish?\n",
    "\n",
    "### 1. Take the PDF file as input from the user.\n",
    "### 2. Perform validation checks if the input file is as per mentioned format.\n",
    "### 3. Save the PDF file in the desired location.\n",
    "### 4. Call the function convertPDFToText() defined above and convert the PDF data to plain text format.\n",
    "### 5. Once the data has been converted to plan text (string) then writing the same data to a file.txt ex- Profile_1.txt\n",
    "### 6. Storing the multiple converted text files as a Pandas DataFrame and exporting the dataframe to CSV format and saving in the desired location.\n",
    "### 7. Returning the PDF Profiles as .json format as a response from the Web API."
   ]
  },
  {
   "cell_type": "code",
   "execution_count": 2,
   "metadata": {},
   "outputs": [
    {
     "name": "stdout",
     "output_type": "stream",
     "text": [
      " * Serving Flask app \"__main__\" (lazy loading)\n",
      " * Environment: production\n",
      "   WARNING: This is a development server. Do not use it in a production deployment.\n",
      "   Use a production WSGI server instead.\n",
      " * Debug mode: off\n"
     ]
    },
    {
     "name": "stderr",
     "output_type": "stream",
     "text": [
      " * Running on http://127.0.0.1:5000/ (Press CTRL+C to quit)\n",
      "127.0.0.1 - - [26/Aug/2020 21:13:31] \"\u001b[37mGET / HTTP/1.1\u001b[0m\" 200 -\n",
      "127.0.0.1 - - [26/Aug/2020 21:13:31] \"\u001b[33mGET /favicon.ico HTTP/1.1\u001b[0m\" 404 -\n"
     ]
    }
   ],
   "source": [
    "profile_df=pd.DataFrame() # Empty DataFrame to store the profile texts.\n",
    "\n",
    "# Setting the FLASK application framework.\n",
    "app = Flask(__name__)\n",
    "\n",
    "# Location to save the uploaded files from the user.\n",
    "UPLOAD_FOLDER = app.root_path+'\\\\Data\\\\uploads'\n",
    "\n",
    "app.secret_key = \"secret key\" #value set for the SECRET_KEY configuration key\n",
    "app.config['UPLOAD_FOLDER'] = UPLOAD_FOLDER #configuring the app to store the uploaded files\n",
    "app.config['MAX_CONTENT_LENGTH'] = 16 * 1024 * 1024 #Limiting the size of file that the user upolads.\n",
    "\n",
    "ALLOWED_EXTENSIONS = set(['pdf']) #Only PDF files are allowed to be as valid input\n",
    "\n",
    "def allowed_file(filename): # Function to check if the uploaded file is valid or not.\n",
    "    return '.' in filename and filename.rsplit('.', 1)[1].lower() in ALLOWED_EXTENSIONS\n",
    "\n",
    "@app.route('/')\n",
    "def upload_form(): # Returns a simple template, provided to upload the files by the user.\n",
    "    return render_template('upload.html')\n",
    "\n",
    "@app.route('/', methods=['POST'])\n",
    "def upload_file():\n",
    "    global profile_df\n",
    "    if request.method == 'POST':\n",
    "        # check if the post request has the files part\n",
    "        if 'files[]' not in request.files: \n",
    "            flash('No file part')\n",
    "            return redirect(request.url)\n",
    "        files = request.files.getlist('files[]')\n",
    "        profile_dict={} # Empty dictionary to store profile details with respective profiles names.\n",
    "        for file in files: # Looping over multiple files (if multiple files are uploaded by user)\n",
    "            if file and allowed_file(file.filename):\n",
    "                filename = secure_filename(file.filename) \n",
    "                file.save(os.path.join(app.config['UPLOAD_FOLDER'], filename)) # saving the uploaded PDF file to desired location\n",
    "                \n",
    "                uploaded_file_path = os.path.join(UPLOAD_FOLDER+ '\\\\'+filename) # Path of stored PDF file\n",
    "                stringFormat = convertPDFToText(uploaded_file_path) # Passing the path for the PDF file in the function to convert to plain text.\n",
    "                \n",
    "                # Writing the plain text values (string) obtained after parsing the pdf to external text files.\n",
    "                with open(app.root_path+'\\\\Data\\\\uploads\\\\converted\\\\'+filename+'.txt', 'w', encoding='utf-8') as file_txt: \n",
    "                    file_txt.write(stringFormat) \n",
    "                    file_txt.close()\n",
    "                \n",
    "                profile_dict[filename]=stringFormat #storing the profile details as key-value pairs.\n",
    "                \n",
    "        # Creating a single DataFrame of all the profiles with their respective Profile Numbers as indexes.        \n",
    "        profile_df = pd.DataFrame.from_dict(profile_dict,orient='index',columns=['Profiles'])\n",
    "        \n",
    "        # Exporting the created Profiles DataFrame to .csv \n",
    "        profile_df.to_csv(app.root_path+'\\\\Data\\\\uploads\\\\ProfileCSV\\\\ProfilesCSV.csv')\n",
    "        \n",
    "        flash('File(s) successfully uploaded')\n",
    "        \n",
    "        # Finally sending the response in .json format to the client (user).\n",
    "        return profile_dict\n",
    "\n",
    "if __name__ == \"__main__\":\n",
    "    app.run()"
   ]
  },
  {
   "cell_type": "markdown",
   "metadata": {},
   "source": [
    "### Sample of the DataFrame containing Profile Details."
   ]
  },
  {
   "cell_type": "code",
   "execution_count": 23,
   "metadata": {},
   "outputs": [
    {
     "data": {
      "text/html": [
       "<div>\n",
       "<style scoped>\n",
       "    .dataframe tbody tr th:only-of-type {\n",
       "        vertical-align: middle;\n",
       "    }\n",
       "\n",
       "    .dataframe tbody tr th {\n",
       "        vertical-align: top;\n",
       "    }\n",
       "\n",
       "    .dataframe thead th {\n",
       "        text-align: right;\n",
       "    }\n",
       "</style>\n",
       "<table border=\"1\" class=\"dataframe\">\n",
       "  <thead>\n",
       "    <tr style=\"text-align: right;\">\n",
       "      <th></th>\n",
       "      <th>Profiles</th>\n",
       "    </tr>\n",
       "  </thead>\n",
       "  <tbody>\n",
       "    <tr>\n",
       "      <th>Profile_1.pdf</th>\n",
       "      <td>\\n\\n \\n\\nContact\\n9407608477 (Mobile)\\npisdak...</td>\n",
       "    </tr>\n",
       "    <tr>\n",
       "      <th>Profile_2.pdf</th>\n",
       "      <td>\\n\\n \\n\\nContact\\nabhishekvtiwari008@gmail.co...</td>\n",
       "    </tr>\n",
       "    <tr>\n",
       "      <th>Profile_3.pdf</th>\n",
       "      <td>\\n\\n \\n\\n \\n\\nContact\\npkasture2010@gmail.com...</td>\n",
       "    </tr>\n",
       "    <tr>\n",
       "      <th>Profile_4.pdf</th>\n",
       "      <td>Contact\\nroymilaniitd@gmail.com\\n\\nwww.linkedi...</td>\n",
       "    </tr>\n",
       "    <tr>\n",
       "      <th>Profile_5.pdf</th>\n",
       "      <td>Contact\\ntherishabhmalhotra@gmail.co\\nm\\n\\nwww...</td>\n",
       "    </tr>\n",
       "    <tr>\n",
       "      <th>Profile_6.pdf</th>\n",
       "      <td>\\n\\n \\n\\n \\n\\nAtul Joshi\\n\\nA.I Intern at Con...</td>\n",
       "    </tr>\n",
       "    <tr>\n",
       "      <th>Profile_7.pdf</th>\n",
       "      <td>\\n\\n \\n\\nContact\\nVasantham 4/85 new number\\n...</td>\n",
       "    </tr>\n",
       "    <tr>\n",
       "      <th>Profile_8.pdf</th>\n",
       "      <td>Contact\\nharshithard05@gmail.com\\n\\nwww.linked...</td>\n",
       "    </tr>\n",
       "    <tr>\n",
       "      <th>Profile_9.pdf</th>\n",
       "      <td>Contact\\nprateek@digitaldefynd.com\\n\\nwww.link...</td>\n",
       "    </tr>\n",
       "    <tr>\n",
       "      <th>Profile_10.pdf</th>\n",
       "      <td>\\n\\n \\n\\n \\n\\nContact\\nakash.ravikumar12@gmai...</td>\n",
       "    </tr>\n",
       "    <tr>\n",
       "      <th>Profile_11.pdf</th>\n",
       "      <td>Contact\\n8870118297 (Mobile)\\nsamsonanil2265@g...</td>\n",
       "    </tr>\n",
       "    <tr>\n",
       "      <th>Profile_12.pdf</th>\n",
       "      <td>\\n\\n \\n\\nContact\\ntithimehta94@gmail.com\\n\\nw...</td>\n",
       "    </tr>\n",
       "    <tr>\n",
       "      <th>Profile_13.pdf</th>\n",
       "      <td>Contact\\nsunny.mishra0389@gmail.com\\n\\nwww.lin...</td>\n",
       "    </tr>\n",
       "    <tr>\n",
       "      <th>Profile_14.pdf</th>\n",
       "      <td>Contact\\n8319245223 (Mobile)\\nabhi.krpl100@gma...</td>\n",
       "    </tr>\n",
       "    <tr>\n",
       "      <th>Profile_15.pdf</th>\n",
       "      <td>Contact\\n9573999849 (Mobile)\\nlbalapraneethred...</td>\n",
       "    </tr>\n",
       "    <tr>\n",
       "      <th>Profile_16.pdf</th>\n",
       "      <td>\\n\\n \\n\\n \\n\\nContact\\nabhishektheashek@gmail...</td>\n",
       "    </tr>\n",
       "    <tr>\n",
       "      <th>Profile_17.pdf</th>\n",
       "      <td>\\n\\n \\n\\n \\n\\nContact\\nlavinkumar.g64@gmail.c...</td>\n",
       "    </tr>\n",
       "    <tr>\n",
       "      <th>Profile_18.pdf</th>\n",
       "      <td>\\n\\n \\n\\nContact\\npushker@pushker.org\\n\\nwww....</td>\n",
       "    </tr>\n",
       "    <tr>\n",
       "      <th>Profile_19.pdf</th>\n",
       "      <td>Contact\\n+919933257843 (Mobile)\\npssanith@karu...</td>\n",
       "    </tr>\n",
       "    <tr>\n",
       "      <th>Profile_20.pdf</th>\n",
       "      <td>\\n\\n \\n\\n \\n\\nContact\\nmeera.varghese.97@gmai...</td>\n",
       "    </tr>\n",
       "  </tbody>\n",
       "</table>\n",
       "</div>"
      ],
      "text/plain": [
       "                                                         Profiles\n",
       "Profile_1.pdf    \\n\\n \\n\\nContact\\n9407608477 (Mobile)\\npisdak...\n",
       "Profile_2.pdf    \\n\\n \\n\\nContact\\nabhishekvtiwari008@gmail.co...\n",
       "Profile_3.pdf    \\n\\n \\n\\n \\n\\nContact\\npkasture2010@gmail.com...\n",
       "Profile_4.pdf   Contact\\nroymilaniitd@gmail.com\\n\\nwww.linkedi...\n",
       "Profile_5.pdf   Contact\\ntherishabhmalhotra@gmail.co\\nm\\n\\nwww...\n",
       "Profile_6.pdf    \\n\\n \\n\\n \\n\\nAtul Joshi\\n\\nA.I Intern at Con...\n",
       "Profile_7.pdf    \\n\\n \\n\\nContact\\nVasantham 4/85 new number\\n...\n",
       "Profile_8.pdf   Contact\\nharshithard05@gmail.com\\n\\nwww.linked...\n",
       "Profile_9.pdf   Contact\\nprateek@digitaldefynd.com\\n\\nwww.link...\n",
       "Profile_10.pdf   \\n\\n \\n\\n \\n\\nContact\\nakash.ravikumar12@gmai...\n",
       "Profile_11.pdf  Contact\\n8870118297 (Mobile)\\nsamsonanil2265@g...\n",
       "Profile_12.pdf   \\n\\n \\n\\nContact\\ntithimehta94@gmail.com\\n\\nw...\n",
       "Profile_13.pdf  Contact\\nsunny.mishra0389@gmail.com\\n\\nwww.lin...\n",
       "Profile_14.pdf  Contact\\n8319245223 (Mobile)\\nabhi.krpl100@gma...\n",
       "Profile_15.pdf  Contact\\n9573999849 (Mobile)\\nlbalapraneethred...\n",
       "Profile_16.pdf   \\n\\n \\n\\n \\n\\nContact\\nabhishektheashek@gmail...\n",
       "Profile_17.pdf   \\n\\n \\n\\n \\n\\nContact\\nlavinkumar.g64@gmail.c...\n",
       "Profile_18.pdf   \\n\\n \\n\\nContact\\npushker@pushker.org\\n\\nwww....\n",
       "Profile_19.pdf  Contact\\n+919933257843 (Mobile)\\npssanith@karu...\n",
       "Profile_20.pdf   \\n\\n \\n\\n \\n\\nContact\\nmeera.varghese.97@gmai..."
      ]
     },
     "execution_count": 23,
     "metadata": {},
     "output_type": "execute_result"
    }
   ],
   "source": [
    "profile_df.head(20) "
   ]
  },
  {
   "cell_type": "markdown",
   "metadata": {},
   "source": [
    "# TASK-3\n",
    "### # For every profile data (text), find out the most frequent words and essential words used. It shouldn’t contain stop words (like is, the, an, etc.)."
   ]
  },
  {
   "cell_type": "markdown",
   "metadata": {},
   "source": [
    "# Function : text_preprocessing()\n",
    "\n",
    "## What does this function do?\n",
    "### 1. Take in each word from various Profiles texts as input.\n",
    "### 2. Perform checks if the particular word or character is a punctuation or unwanted symbols and removing them from the corpus. Since they carry very little or Nil information during text analytics.\n",
    "### 3. Changing the case of all letters in a word to lowerCase this is done to avoid case sensitive issues which should be avoided during text analysis. For ex : boy , BoY, BOy, boY carry same meaning.\n",
    "### 4. Removing stop-words from the corpus, which means those words which occur very frequently in a text corpus and removing them would not alter the inherent meaning of the text. This is done to achieve better performace from NLP models or easing the computational cost during pre-processing.\n",
    "### 5. Performing Lemmatization of the words in order to reduce the different forms of the same word to the root word so as to return the base or dictionary form of a word, which is known as the lemma .\n"
   ]
  },
  {
   "cell_type": "code",
   "execution_count": 10,
   "metadata": {},
   "outputs": [
    {
     "name": "stderr",
     "output_type": "stream",
     "text": [
      "C:\\ProgramData\\Anaconda3\\lib\\site-packages\\spacy\\util.py:275: UserWarning: [W031] Model 'en_core_web_sm' (2.2.0) requires spaCy v2.2 and is incompatible with the current spaCy version (2.3.2). This may lead to unexpected results or runtime errors. To resolve this, download a newer compatible model or retrain your custom model with the current spaCy version. For more details and available updates, run: python -m spacy validate\n",
      "  warnings.warn(warn_msg)\n"
     ]
    }
   ],
   "source": [
    "\n",
    "nlp = en_core_web_sm.load() # Loading the spacy English Language Model.\n",
    "\n",
    "def text_preprocessing(word):\n",
    "    try:\n",
    "        rem_char = string.punctuation + string.digits # ALl the characters which must be omitted from the word corpus.\n",
    "\n",
    "        mod_word = '' #Empty string to concatenate with the resultant strings.\n",
    "        \n",
    "        for char in word:\n",
    "            if (char not in rem_char):\n",
    "                mod_word += char.lower() # Lower Case all the letters of the word.\n",
    "\n",
    "        docx = nlp(str(mod_word)) # Creating a Doc Object by tokenizing the text.\n",
    "\n",
    "        if (len(mod_word) == 0 or docx[0].is_stop): # Removing the stopwords (if any)\n",
    "            return None\n",
    "        else:\n",
    "            return docx[0].lemma_ # Perform Lemmatization of the words to reduce down to the root word or dictionary form.\n",
    "    except:\n",
    "        return None # to handle the odd case of characters like 'x02', etc."
   ]
  },
  {
   "cell_type": "markdown",
   "metadata": {},
   "source": [
    "# Function to clean the text-corpus and return the clean text"
   ]
  },
  {
   "cell_type": "code",
   "execution_count": 11,
   "metadata": {},
   "outputs": [],
   "source": [
    "def clean_profile(profile_desc):    \n",
    "    prc_description = ''\n",
    "    for word in profile_desc.split():\n",
    "        mod_word = text_preprocessing(word)\n",
    "        if (mod_word is not None): \n",
    "            prc_description += (mod_word + ' ')\n",
    "    return prc_description"
   ]
  },
  {
   "cell_type": "code",
   "execution_count": 12,
   "metadata": {},
   "outputs": [],
   "source": [
    "clean_profile_df = profile_df.applymap(clean_profile) # Using .applymap() to apply the clean_profile function for each profile."
   ]
  },
  {
   "cell_type": "markdown",
   "metadata": {},
   "source": [
    "### Exporting the cleaned profile text corpus as excel "
   ]
  },
  {
   "cell_type": "code",
   "execution_count": 24,
   "metadata": {},
   "outputs": [],
   "source": [
    "# clean_profile_df.to_csv('C://Users//sudar//OneDrive//Desktop//Work Files//AI CHamp//Data//uploads//ProfileCSV//ProfilesCSV_Cleaned.csv')"
   ]
  },
  {
   "cell_type": "code",
   "execution_count": null,
   "metadata": {},
   "outputs": [],
   "source": [
    "clean_profile_df"
   ]
  },
  {
   "cell_type": "markdown",
   "metadata": {},
   "source": [
    "# Function : pos_tag(s)\n",
    "### - This function performs Parts of Speech Tagging of each words in a sentence.\n",
    "### - This POS tagging is useful when we want to determine the most essential words in a corpus based on their use in the sentence.\n",
    "### - This function returns the tag of a particular word based on which we can determine the relevancy of tha word in the corpus.\n",
    "\n",
    "# Function : adj_Noun_words()\n",
    "### 1. This function is used to determine the most relevant words in a text corpus which in case of a person's professional profile will be the Nouns (Name, Place, Object) and Adjectives. This helps to create a good impression in the recruiter's mind, use of good adjectives is really common for professional profiles like LinkedIN."
   ]
  },
  {
   "cell_type": "code",
   "execution_count": 17,
   "metadata": {},
   "outputs": [],
   "source": [
    "def pos_tag(s):\n",
    "    return nltk.pos_tag(s) # Using nltks's pos_tag module to identify pos of each word in the corpus.\n",
    "\n",
    "def adj_Noun_words(profile_desc):\n",
    "    essential_list={}\n",
    "    try:\n",
    "        token = nltk.word_tokenize(profile_desc) #Tokenizing the text\n",
    "    except:\n",
    "        return None\n",
    "    pos_token = pos_tag(token) # Obtaining the pos of the particular word.\n",
    "    for i,tag in pos_token:\n",
    "        # Checking if the word is of type : Noun or and Adjective.\n",
    "        if tag in [\"JJ\",\"JJR\",\"JJS\",\"N\"]:  # JJ, JJR, JJS , N denote Adjectives and Noun\n",
    "            if i in essential_list: \n",
    "                essential_list[i]+=1\n",
    "            else:\n",
    "                essential_list[i] = 1\n",
    "    return list(essential_list.keys()) # Returning the Essential Words"
   ]
  },
  {
   "cell_type": "code",
   "execution_count": 18,
   "metadata": {},
   "outputs": [],
   "source": [
    "clean_profile_df['Essential Words'] = clean_profile_df.applymap(adj_Noun_words)"
   ]
  },
  {
   "cell_type": "markdown",
   "metadata": {},
   "source": [
    "# Function : freq_words()\n",
    "### - This function finds the most frequently occuring words in the text corpus for each profile. \n",
    "### - This helps us to analyse the individual's professional domain, linguistic behavior, professionalism and even past working experiences as well as job preferences."
   ]
  },
  {
   "cell_type": "code",
   "execution_count": 19,
   "metadata": {},
   "outputs": [],
   "source": [
    "def freq_words(profile_desc):\n",
    "    corpus = list(profile_desc.split())\n",
    "    word_count=dict()\n",
    "    for word in corpus:\n",
    "        if word not in word_count.keys():\n",
    "            word_count[word] = corpus.count(word)\n",
    "    sorted_word_count = sorted(word_count.items(), key = lambda kv:(kv[1], kv[0]), reverse=True)\n",
    "    top_10_words = list() #List to contain top 10 most frequently occuring words in the corpus.\n",
    "    for kv in sorted_word_count :\n",
    "        top_10_words.append(kv)\n",
    "        if len(top_10_words)==10:\n",
    "            break\n",
    "    return top_10_words"
   ]
  },
  {
   "cell_type": "code",
   "execution_count": 20,
   "metadata": {},
   "outputs": [],
   "source": [
    "clean_profile_df['Top 10 Frequent Words'] = clean_profile_df['Profiles'].apply(freq_words)"
   ]
  },
  {
   "cell_type": "code",
   "execution_count": 21,
   "metadata": {},
   "outputs": [
    {
     "data": {
      "text/html": [
       "<div>\n",
       "<style scoped>\n",
       "    .dataframe tbody tr th:only-of-type {\n",
       "        vertical-align: middle;\n",
       "    }\n",
       "\n",
       "    .dataframe tbody tr th {\n",
       "        vertical-align: top;\n",
       "    }\n",
       "\n",
       "    .dataframe thead th {\n",
       "        text-align: right;\n",
       "    }\n",
       "</style>\n",
       "<table border=\"1\" class=\"dataframe\">\n",
       "  <thead>\n",
       "    <tr style=\"text-align: right;\">\n",
       "      <th></th>\n",
       "      <th>Profiles</th>\n",
       "      <th>Essential Words</th>\n",
       "      <th>Top 10 Frequent Words</th>\n",
       "    </tr>\n",
       "  </thead>\n",
       "  <tbody>\n",
       "    <tr>\n",
       "      <th>Profile_1.pdf</th>\n",
       "      <td>contact mobile pisdakgmailcom wwwlinkedincomin...</td>\n",
       "      <td>[mobile, personal, hindi, english, fundamental...</td>\n",
       "      <td>[(raipur, 6), (startup, 5), (web, 4), (month, ...</td>\n",
       "    </tr>\n",
       "    <tr>\n",
       "      <th>Profile_2.pdf</th>\n",
       "      <td>contact abhishekvtiwarigmailco m wwwlinkedinco...</td>\n",
       "      <td>[microsoft, analytic, lean, yellow, summary, r...</td>\n",
       "      <td>[(business, 7), (analytic, 6), (management, 3)...</td>\n",
       "    </tr>\n",
       "    <tr>\n",
       "      <th>Profile_3.pdf</th>\n",
       "      <td>contact pkasturegmailcom wwwlinkedincominpriya...</td>\n",
       "      <td>[priyanka, india, social, spanish, elementary,...</td>\n",
       "      <td>[(india, 14), (community, 9), (learn, 8), (pun...</td>\n",
       "    </tr>\n",
       "    <tr>\n",
       "      <th>Profile_4.pdf</th>\n",
       "      <td>contact roymilaniitdgmailcom wwwlinkedincominm...</td>\n",
       "      <td>[digital, native, bilingual, english, tutorial...</td>\n",
       "      <td>[(delhi, 9), (month, 6), (technology, 5), (mod...</td>\n",
       "    </tr>\n",
       "    <tr>\n",
       "      <th>Profile_5.pdf</th>\n",
       "      <td>contact therishabhmalhotragmailco m wwwlinkedi...</td>\n",
       "      <td>[therishabhmalhotra, statistic, native, biling...</td>\n",
       "      <td>[(datum, 17), (⁣⁣, 16), (■, 6), (month, 6), (w...</td>\n",
       "    </tr>\n",
       "    <tr>\n",
       "      <th>Profile_6.pdf</th>\n",
       "      <td>atul joshi ai intern continental automotive co...</td>\n",
       "      <td>[intern, continental, automotive, artificial, ...</td>\n",
       "      <td>[(skill, 3), (neural, 3), (network, 3), (deep,...</td>\n",
       "    </tr>\n",
       "    <tr>\n",
       "      <th>Profile_7.pdf</th>\n",
       "      <td>contact vasantham new number redfieldspuliakul...</td>\n",
       "      <td>[new, redfieldspuliakulamappusamy, mobile, dee...</td>\n",
       "      <td>[(university, 17), (learn, 12), (science, 9), ...</td>\n",
       "    </tr>\n",
       "    <tr>\n",
       "      <th>Profile_8.pdf</th>\n",
       "      <td>contact harshithardgmailcom wwwlinkedincomin h...</td>\n",
       "      <td>[uiux, tamil, english, opencv, intern, ml, sum...</td>\n",
       "      <td>[(learn, 6), (research, 5), (science, 4), (int...</td>\n",
       "    </tr>\n",
       "    <tr>\n",
       "      <th>Profile_9.pdf</th>\n",
       "      <td>contact prateekdigitaldefyndcom wwwlinkedincom...</td>\n",
       "      <td>[social, personal, digital, present, new, delh...</td>\n",
       "      <td>[(digital, 8), (year, 7), (month, 7), (marketi...</td>\n",
       "    </tr>\n",
       "    <tr>\n",
       "      <th>Profile_10.pdf</th>\n",
       "      <td>contact akashravikumargmailcom wwwlinkedincomi...</td>\n",
       "      <td>[english, summary, uart, little, udp, datum, q...</td>\n",
       "      <td>[(work, 8), (hardware, 7), (learn, 5), (knowle...</td>\n",
       "    </tr>\n",
       "    <tr>\n",
       "      <th>Profile_11.pdf</th>\n",
       "      <td>contact mobile samsonanilgmailcom wwwlinkedinc...</td>\n",
       "      <td>[mobile, mem, medical, biomedical, elementary,...</td>\n",
       "      <td>[(medical, 11), (biomedical, 7), (image, 6), (...</td>\n",
       "    </tr>\n",
       "    <tr>\n",
       "      <th>Profile_12.pdf</th>\n",
       "      <td>contact tithimehtagmailcom wwwlinkedincominhrt...</td>\n",
       "      <td>[skill, human, associate, summary, profile, en...</td>\n",
       "      <td>[(manager, 3), (india, 3), (byjus, 3), (associ...</td>\n",
       "    </tr>\n",
       "    <tr>\n",
       "      <th>Profile_13.pdf</th>\n",
       "      <td>contact sunnymishragmailcom wwwlinkedincominsu...</td>\n",
       "      <td>[nodejs, java, architectural, senior, summary,...</td>\n",
       "      <td>[(•, 16), (product, 8), (engineer, 7), (lead, ...</td>\n",
       "    </tr>\n",
       "    <tr>\n",
       "      <th>Profile_14.pdf</th>\n",
       "      <td>contact mobile abhikrplgmailcom wwwlinkedincom...</td>\n",
       "      <td>[mobile, native, bilingual, english, professio...</td>\n",
       "      <td>[(raipur, 4), (year, 3), (india, 3), (month, 2...</td>\n",
       "    </tr>\n",
       "    <tr>\n",
       "      <th>Profile_15.pdf</th>\n",
       "      <td>contact mobile lbalapraneethreddykarunya eduin...</td>\n",
       "      <td>[mobile, linkedin, professional, elementary, a...</td>\n",
       "      <td>[(provide, 6), (network, 6), (develop, 6), (te...</td>\n",
       "    </tr>\n",
       "    <tr>\n",
       "      <th>Profile_16.pdf</th>\n",
       "      <td>contact abhishektheashekgmailcom wwwlinkedinco...</td>\n",
       "      <td>[india, private, sibm, c, native, bilingual, e...</td>\n",
       "      <td>[(project, 11), (management, 8), (supplier, 6)...</td>\n",
       "    </tr>\n",
       "    <tr>\n",
       "      <th>Profile_17.pdf</th>\n",
       "      <td>contact lavinkumarggmailcom wwwlinkedincominla...</td>\n",
       "      <td>[robotic, code, january, present, india, natio...</td>\n",
       "      <td>[(space, 3), (robotic, 3), (month, 3), (januar...</td>\n",
       "    </tr>\n",
       "    <tr>\n",
       "      <th>Profile_18.pdf</th>\n",
       "      <td>contact pushkerpushkerorg wwwlinkedincominpush...</td>\n",
       "      <td>[personal, bioinformatic, computational, spani...</td>\n",
       "      <td>[(datum, 42), (science, 24), (lead, 17), (engi...</td>\n",
       "    </tr>\n",
       "    <tr>\n",
       "      <th>Profile_19.pdf</th>\n",
       "      <td>contact mobile pssanithkarunyaeduin wwwlinkedi...</td>\n",
       "      <td>[mobile, native, bilingual, english, digital, ...</td>\n",
       "      <td>[(month, 10), (year, 7), (june, 7), (programmi...</td>\n",
       "    </tr>\n",
       "    <tr>\n",
       "      <th>Profile_20.pdf</th>\n",
       "      <td>contact meeravarghesegmailcom wwwlinkedincomin...</td>\n",
       "      <td>[varughese, nestle, india, english, profession...</td>\n",
       "      <td>[(food, 4), (·, 3), (quality, 3), (new, 3), (m...</td>\n",
       "    </tr>\n",
       "  </tbody>\n",
       "</table>\n",
       "</div>"
      ],
      "text/plain": [
       "                                                         Profiles  \\\n",
       "Profile_1.pdf   contact mobile pisdakgmailcom wwwlinkedincomin...   \n",
       "Profile_2.pdf   contact abhishekvtiwarigmailco m wwwlinkedinco...   \n",
       "Profile_3.pdf   contact pkasturegmailcom wwwlinkedincominpriya...   \n",
       "Profile_4.pdf   contact roymilaniitdgmailcom wwwlinkedincominm...   \n",
       "Profile_5.pdf   contact therishabhmalhotragmailco m wwwlinkedi...   \n",
       "Profile_6.pdf   atul joshi ai intern continental automotive co...   \n",
       "Profile_7.pdf   contact vasantham new number redfieldspuliakul...   \n",
       "Profile_8.pdf   contact harshithardgmailcom wwwlinkedincomin h...   \n",
       "Profile_9.pdf   contact prateekdigitaldefyndcom wwwlinkedincom...   \n",
       "Profile_10.pdf  contact akashravikumargmailcom wwwlinkedincomi...   \n",
       "Profile_11.pdf  contact mobile samsonanilgmailcom wwwlinkedinc...   \n",
       "Profile_12.pdf  contact tithimehtagmailcom wwwlinkedincominhrt...   \n",
       "Profile_13.pdf  contact sunnymishragmailcom wwwlinkedincominsu...   \n",
       "Profile_14.pdf  contact mobile abhikrplgmailcom wwwlinkedincom...   \n",
       "Profile_15.pdf  contact mobile lbalapraneethreddykarunya eduin...   \n",
       "Profile_16.pdf  contact abhishektheashekgmailcom wwwlinkedinco...   \n",
       "Profile_17.pdf  contact lavinkumarggmailcom wwwlinkedincominla...   \n",
       "Profile_18.pdf  contact pushkerpushkerorg wwwlinkedincominpush...   \n",
       "Profile_19.pdf  contact mobile pssanithkarunyaeduin wwwlinkedi...   \n",
       "Profile_20.pdf  contact meeravarghesegmailcom wwwlinkedincomin...   \n",
       "\n",
       "                                                  Essential Words  \\\n",
       "Profile_1.pdf   [mobile, personal, hindi, english, fundamental...   \n",
       "Profile_2.pdf   [microsoft, analytic, lean, yellow, summary, r...   \n",
       "Profile_3.pdf   [priyanka, india, social, spanish, elementary,...   \n",
       "Profile_4.pdf   [digital, native, bilingual, english, tutorial...   \n",
       "Profile_5.pdf   [therishabhmalhotra, statistic, native, biling...   \n",
       "Profile_6.pdf   [intern, continental, automotive, artificial, ...   \n",
       "Profile_7.pdf   [new, redfieldspuliakulamappusamy, mobile, dee...   \n",
       "Profile_8.pdf   [uiux, tamil, english, opencv, intern, ml, sum...   \n",
       "Profile_9.pdf   [social, personal, digital, present, new, delh...   \n",
       "Profile_10.pdf  [english, summary, uart, little, udp, datum, q...   \n",
       "Profile_11.pdf  [mobile, mem, medical, biomedical, elementary,...   \n",
       "Profile_12.pdf  [skill, human, associate, summary, profile, en...   \n",
       "Profile_13.pdf  [nodejs, java, architectural, senior, summary,...   \n",
       "Profile_14.pdf  [mobile, native, bilingual, english, professio...   \n",
       "Profile_15.pdf  [mobile, linkedin, professional, elementary, a...   \n",
       "Profile_16.pdf  [india, private, sibm, c, native, bilingual, e...   \n",
       "Profile_17.pdf  [robotic, code, january, present, india, natio...   \n",
       "Profile_18.pdf  [personal, bioinformatic, computational, spani...   \n",
       "Profile_19.pdf  [mobile, native, bilingual, english, digital, ...   \n",
       "Profile_20.pdf  [varughese, nestle, india, english, profession...   \n",
       "\n",
       "                                            Top 10 Frequent Words  \n",
       "Profile_1.pdf   [(raipur, 6), (startup, 5), (web, 4), (month, ...  \n",
       "Profile_2.pdf   [(business, 7), (analytic, 6), (management, 3)...  \n",
       "Profile_3.pdf   [(india, 14), (community, 9), (learn, 8), (pun...  \n",
       "Profile_4.pdf   [(delhi, 9), (month, 6), (technology, 5), (mod...  \n",
       "Profile_5.pdf   [(datum, 17), (⁣⁣, 16), (■, 6), (month, 6), (w...  \n",
       "Profile_6.pdf   [(skill, 3), (neural, 3), (network, 3), (deep,...  \n",
       "Profile_7.pdf   [(university, 17), (learn, 12), (science, 9), ...  \n",
       "Profile_8.pdf   [(learn, 6), (research, 5), (science, 4), (int...  \n",
       "Profile_9.pdf   [(digital, 8), (year, 7), (month, 7), (marketi...  \n",
       "Profile_10.pdf  [(work, 8), (hardware, 7), (learn, 5), (knowle...  \n",
       "Profile_11.pdf  [(medical, 11), (biomedical, 7), (image, 6), (...  \n",
       "Profile_12.pdf  [(manager, 3), (india, 3), (byjus, 3), (associ...  \n",
       "Profile_13.pdf  [(•, 16), (product, 8), (engineer, 7), (lead, ...  \n",
       "Profile_14.pdf  [(raipur, 4), (year, 3), (india, 3), (month, 2...  \n",
       "Profile_15.pdf  [(provide, 6), (network, 6), (develop, 6), (te...  \n",
       "Profile_16.pdf  [(project, 11), (management, 8), (supplier, 6)...  \n",
       "Profile_17.pdf  [(space, 3), (robotic, 3), (month, 3), (januar...  \n",
       "Profile_18.pdf  [(datum, 42), (science, 24), (lead, 17), (engi...  \n",
       "Profile_19.pdf  [(month, 10), (year, 7), (june, 7), (programmi...  \n",
       "Profile_20.pdf  [(food, 4), (·, 3), (quality, 3), (new, 3), (m...  "
      ]
     },
     "execution_count": 21,
     "metadata": {},
     "output_type": "execute_result"
    }
   ],
   "source": [
    "clean_profile_df.head(20)"
   ]
  },
  {
   "cell_type": "markdown",
   "metadata": {},
   "source": [
    "### Exporting the cleaned profile text corpus DataFrame with Essential and Most Frequently Occuring Words in each of the Profiles"
   ]
  },
  {
   "cell_type": "code",
   "execution_count": 22,
   "metadata": {},
   "outputs": [],
   "source": [
    "# clean_profile_df.to_csv('C://Users//sudar//OneDrive//Desktop//Work Files//AI CHamp//Data//uploads//ProfileCSV//ProfilesCSV_FINAL.csv')"
   ]
  },
  {
   "cell_type": "markdown",
   "metadata": {},
   "source": [
    "# TASK-4 (Part-b)\n",
    "### # The second web API should take text data as input and return the most frequent words and important words (as mentioned in 3) in JSON format."
   ]
  },
  {
   "cell_type": "markdown",
   "metadata": {},
   "source": [
    "# Creating the Second WEB-API using FLASK.\n",
    "\n",
    "## What work will this API establish?\n",
    "\n",
    "### 1. Read the plain text input file of respective LinkedIn profiles which we converted previously using our very first WEB API.\n",
    "\n",
    "### 2. Perform the cleaning or text-preprocessing of the each profile text corpus uploaded by the user.\n",
    "\n",
    "### 3. Determine the Most-Essential words from each of the profile text corpus uploaded by the user and store them.\n",
    "\n",
    "### 4. Find out the most frequently occuring words from the profile text corpus and store them.\n",
    "\n",
    "### 5. As a final step, club all the results from multiple input files (or only single) and send as response to the client (user) in the form of .json format."
   ]
  },
  {
   "cell_type": "code",
   "execution_count": 3,
   "metadata": {},
   "outputs": [
    {
     "name": "stdout",
     "output_type": "stream",
     "text": [
      " * Serving Flask app \"__main__\" (lazy loading)\n",
      " * Environment: production\n",
      "   WARNING: This is a development server. Do not use it in a production deployment.\n",
      "   Use a production WSGI server instead.\n",
      " * Debug mode: off\n"
     ]
    },
    {
     "name": "stderr",
     "output_type": "stream",
     "text": [
      " * Running on http://127.0.0.1:5000/ (Press CTRL+C to quit)\n",
      "127.0.0.1 - - [26/Aug/2020 21:13:45] \"\u001b[37mGET / HTTP/1.1\u001b[0m\" 200 -\n"
     ]
    }
   ],
   "source": [
    "\n",
    "\n",
    "# Setting the FLASK application framework.\n",
    "app = Flask(__name__)\n",
    "\n",
    "# Location to save the uploaded files from the user.\n",
    "UPLOAD_FOLDER = app.root_path+'\\\\Data\\\\uploads'\n",
    "\n",
    "app.secret_key = \"secret key\" #value set for the SECRET_KEY configuration key\n",
    "app.config['UPLOAD_FOLDER'] = UPLOAD_FOLDER #configuring the app to store the uploaded files\n",
    "app.config['MAX_CONTENT_LENGTH'] = 16 * 1024 * 1024 #Limiting the size of file that the user upolads.\n",
    "\n",
    "\n",
    "ALLOWED_EXTENSIONS = set(['txt']) #Only PDF files are allowed to be as valid input\n",
    "\n",
    "def allowed_file(filename): # Function to check if the uploaded file is valid or not.\n",
    "    return '.' in filename and filename.rsplit('.', 1)[1].lower() in ALLOWED_EXTENSIONS\n",
    "\n",
    "@app.route('/')\n",
    "def upload_form():# Returns a simple template, provided to upload the files by the user.\n",
    "    return render_template('upload.html')\n",
    "\n",
    "@app.route('/', methods=['POST'])\n",
    "def upload_file():\n",
    "    global profile_df\n",
    "    if request.method == 'POST':\n",
    "        # check if the post request has the files part\n",
    "        if 'files[]' not in request.files:\n",
    "            flash('No file part')\n",
    "            return redirect(request.url)\n",
    "        files = request.files.getlist('files[]')\n",
    "        profile_dict={} # Empty dictionary to store profile details with respective profiles names.\n",
    "        NUM=0\n",
    "        for file in files: # Looping over multiple files (if multiple files are uploaded by user)\n",
    "            if file and allowed_file(file.filename):\n",
    "                filename = secure_filename(file.filename)\n",
    "                file.save(os.path.join(app.config['UPLOAD_FOLDER'], filename)) # saving the uploaded PDF file to desired location\n",
    "                \n",
    "                uploaded_file_path = os.path.join(UPLOAD_FOLDER+ '\\\\'+filename) # Path of stored .txt file\n",
    "                with open(uploaded_file_path, 'r',encoding='ascii',errors='ignore') as file: # Reading the plain text input file\n",
    "                    profile_txt = file.read()\n",
    "                \n",
    "                profile_txt = clean_profile(profile_txt) # Performing Text-Preprocessing of the profile text corpus\n",
    "                Essential_Words = adj_Noun_words(profile_txt) # Returns the Most Essential WOrds\n",
    "                Top_10_words = freq_words(profile_txt) # Returns the most frequently occuring words.\n",
    "#                 print(profile_txt)\n",
    "                NUM+=1\n",
    "                profile_dict['PROFILE '+str(NUM)+' ESSENTIAL WORDS']= Essential_Words #Storing the results in a dict()\n",
    "                profile_dict['PROFILE '+str(NUM)+' MOST FREQUENT WORDS']= Top_10_words #Storing frequent words in a dict()\n",
    "        \n",
    "        flash('File(s) successfully uploaded')\n",
    "        return profile_dict # Returning the response a .json\n",
    "            \n",
    "\n",
    "if __name__ == \"__main__\":\n",
    "    app.run()"
   ]
  },
  {
   "cell_type": "code",
   "execution_count": null,
   "metadata": {},
   "outputs": [],
   "source": []
  },
  {
   "cell_type": "code",
   "execution_count": null,
   "metadata": {},
   "outputs": [],
   "source": []
  },
  {
   "cell_type": "code",
   "execution_count": null,
   "metadata": {},
   "outputs": [],
   "source": []
  },
  {
   "cell_type": "code",
   "execution_count": null,
   "metadata": {},
   "outputs": [],
   "source": []
  },
  {
   "cell_type": "code",
   "execution_count": null,
   "metadata": {},
   "outputs": [],
   "source": []
  }
 ],
 "metadata": {
  "kernelspec": {
   "display_name": "Python 3",
   "language": "python",
   "name": "python3"
  },
  "language_info": {
   "codemirror_mode": {
    "name": "ipython",
    "version": 3
   },
   "file_extension": ".py",
   "mimetype": "text/x-python",
   "name": "python",
   "nbconvert_exporter": "python",
   "pygments_lexer": "ipython3",
   "version": "3.7.6"
  }
 },
 "nbformat": 4,
 "nbformat_minor": 4
}
